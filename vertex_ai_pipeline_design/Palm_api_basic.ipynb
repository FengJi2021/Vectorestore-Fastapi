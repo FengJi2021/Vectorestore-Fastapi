{
 "cells": [
  {
   "attachments": {},
   "cell_type": "markdown",
   "metadata": {},
   "source": [
    "## Init vertex ai "
   ]
  },
  {
   "cell_type": "code",
   "execution_count": 1,
   "metadata": {},
   "outputs": [],
   "source": [
    "# !pip install -r ../app/requirements.txt"
   ]
  },
  {
   "attachments": {},
   "cell_type": "markdown",
   "metadata": {},
   "source": [
    "## Authenticate GCP"
   ]
  },
  {
   "cell_type": "code",
   "execution_count": 2,
   "metadata": {},
   "outputs": [],
   "source": [
    "from google.oauth2 import service_account\n",
    "import google.cloud.aiplatform as aiplatform\n",
    "from vertexai.preview.language_models import ChatModel, InputOutputTextPair\n",
    "from fastapi.openapi.docs import get_swagger_ui_html, get_redoc_html\n",
    "import vertexai\n",
    "import json  # add this line\n",
    "\n",
    "# read credential\n",
    "cred_path = \"../cred/service_account.json\"\n",
    "with open(cred_path) as f:\n",
    "    service_account_info = json.load(f)\n",
    "my_credentials = service_account.Credentials.from_service_account_info(\n",
    "    service_account_info\n",
    ")\n",
    "# init\n",
    "aiplatform.init(\n",
    "    credentials=my_credentials, # NOTE: use my_credentials\n",
    ")\n",
    "# read project id\n",
    "with open(cred_path, encoding=\"utf-8\") as f:\n",
    "    project_json = json.load(f)\n",
    "    project_id = project_json[\"project_id\"]\n"
   ]
  },
  {
   "attachments": {},
   "cell_type": "markdown",
   "metadata": {},
   "source": [
    "## Init Vertex AI with project"
   ]
  },
  {
   "cell_type": "code",
   "execution_count": 7,
   "metadata": {},
   "outputs": [],
   "source": [
    "# Initialize Vertex AI with project and location\n",
    "vertexai.init(project=project_id, location=\"us-central1\")"
   ]
  },
  {
   "attachments": {},
   "cell_type": "markdown",
   "metadata": {},
   "source": [
    "## Vertex AI: TextGeneration Model"
   ]
  },
  {
   "cell_type": "code",
   "execution_count": 8,
   "metadata": {},
   "outputs": [
    {
     "name": "stdout",
     "output_type": "stream",
     "text": [
      "* **Dried Blooms**\n",
      "* **Preserved Petals**\n",
      "* **Forever Flowers**\n",
      "* **Dried & Wild**\n",
      "* **Naturally Beautiful**\n",
      "* **Blooms in Bloom**\n",
      "* **Dried to Perfection**\n",
      "* **Dried Flowers by Design**\n",
      "* **Dried Flowers for Every Occasion**\n"
     ]
    }
   ],
   "source": [
    "# something wrong with this google auth\n",
    "from vertexai.preview.language_models import TextGenerationModel\n",
    "generation_model = TextGenerationModel.from_pretrained(\"text-bison@001\")\n",
    "prompt = \"Suggest a name for a flower shop that sells bouquets of dried flowers\"\n",
    "\n",
    "print(generation_model.predict(prompt=prompt, max_output_tokens=256).text)\n",
    "\n"
   ]
  },
  {
   "attachments": {},
   "cell_type": "markdown",
   "metadata": {},
   "source": [
    "## Vertex AI: Chat Model"
   ]
  },
  {
   "cell_type": "code",
   "execution_count": 9,
   "metadata": {},
   "outputs": [
    {
     "name": "stdout",
     "output_type": "stream",
     "text": [
      "Artificial intelligence (AI) is a branch of computer science that deals with the creation of intelligent agents, which are systems that can reason, learn, and act autonomously. AI has the potential to revolutionize many aspects of our lives, from the way we work and play to the way we interact with the world around us.\n",
      "\n",
      "The impact of AI on society is likely to be profound. AI-powered technologies are already being used to automate tasks, improve decision-making, and create new products and services. In the future, AI is likely to play an even greater role in our lives, automating even more tasks, driving innovation, and helping\n"
     ]
    }
   ],
   "source": [
    "chat_model = ChatModel.from_pretrained(\"chat-bison@001\")\n",
    "parameters = {\n",
    "    \"temperature\": 0.8,\n",
    "    \"max_output_tokens\": 1024,\n",
    "    \"top_p\": 0.8,\n",
    "    \"top_k\": 40,\n",
    "}\n",
    "chat = chat_model.start_chat(  # Initialize the chat with model\n",
    "    # chat context and examples go here\n",
    ")\n",
    "print(\n",
    "    chat.send_message(\n",
    "        \"\"\"\n",
    "Hello! Can you write a 300 word abstract for a research paper I need to write about the impact of AI on society?\n",
    "\"\"\"\n",
    "    )\n",
    ")"
   ]
  },
  {
   "attachments": {},
   "cell_type": "markdown",
   "metadata": {},
   "source": [
    "## Vertex AI: Embedding Model"
   ]
  },
  {
   "cell_type": "code",
   "execution_count": null,
   "metadata": {},
   "outputs": [],
   "source": [
    "# !pip install pandas"
   ]
  },
  {
   "cell_type": "code",
   "execution_count": 11,
   "metadata": {},
   "outputs": [
    {
     "data": {
      "text/html": [
       "<div>\n",
       "<style scoped>\n",
       "    .dataframe tbody tr th:only-of-type {\n",
       "        vertical-align: middle;\n",
       "    }\n",
       "\n",
       "    .dataframe tbody tr th {\n",
       "        vertical-align: top;\n",
       "    }\n",
       "\n",
       "    .dataframe thead th {\n",
       "        text-align: right;\n",
       "    }\n",
       "</style>\n",
       "<table border=\"1\" class=\"dataframe\">\n",
       "  <thead>\n",
       "    <tr style=\"text-align: right;\">\n",
       "      <th></th>\n",
       "      <th>text</th>\n",
       "      <th>embeddings</th>\n",
       "    </tr>\n",
       "  </thead>\n",
       "  <tbody>\n",
       "    <tr>\n",
       "      <th>0</th>\n",
       "      <td>i really enjoyed the movie last night</td>\n",
       "      <td>[-0.01542604435235262, 0.010494514368474483, 0...</td>\n",
       "    </tr>\n",
       "    <tr>\n",
       "      <th>1</th>\n",
       "      <td>so many amazing cinematic scenes yesterday</td>\n",
       "      <td>[-0.0445345863699913, 0.03854769468307495, -0....</td>\n",
       "    </tr>\n",
       "    <tr>\n",
       "      <th>2</th>\n",
       "      <td>had a great time writing my Python scripts a f...</td>\n",
       "      <td>[-0.002230646787211299, -0.00943742785602808, ...</td>\n",
       "    </tr>\n",
       "    <tr>\n",
       "      <th>3</th>\n",
       "      <td>huge sense of relief when my .py script finall...</td>\n",
       "      <td>[-0.0167002584785223, 0.00996268168091774, 0.0...</td>\n",
       "    </tr>\n",
       "    <tr>\n",
       "      <th>4</th>\n",
       "      <td>O Romeo, Romeo, wherefore art thou Romeo?</td>\n",
       "      <td>[0.04244288057088852, -0.028772803023457527, 0...</td>\n",
       "    </tr>\n",
       "  </tbody>\n",
       "</table>\n",
       "</div>"
      ],
      "text/plain": [
       "                                                text  \\\n",
       "0              i really enjoyed the movie last night   \n",
       "1         so many amazing cinematic scenes yesterday   \n",
       "2  had a great time writing my Python scripts a f...   \n",
       "3  huge sense of relief when my .py script finall...   \n",
       "4          O Romeo, Romeo, wherefore art thou Romeo?   \n",
       "\n",
       "                                          embeddings  \n",
       "0  [-0.01542604435235262, 0.010494514368474483, 0...  \n",
       "1  [-0.0445345863699913, 0.03854769468307495, -0....  \n",
       "2  [-0.002230646787211299, -0.00943742785602808, ...  \n",
       "3  [-0.0167002584785223, 0.00996268168091774, 0.0...  \n",
       "4  [0.04244288057088852, -0.028772803023457527, 0...  "
      ]
     },
     "execution_count": 11,
     "metadata": {},
     "output_type": "execute_result"
    }
   ],
   "source": [
    "import pandas as pd\n",
    "from vertexai.preview.language_models import TextEmbeddingModel\n",
    "embedding_model = TextEmbeddingModel.from_pretrained(\"textembedding-gecko@001\")\n",
    "text = [\n",
    "    \"i really enjoyed the movie last night\",\n",
    "    \"so many amazing cinematic scenes yesterday\",\n",
    "    \"had a great time writing my Python scripts a few days ago\",\n",
    "    \"huge sense of relief when my .py script finally ran without error\",\n",
    "    \"O Romeo, Romeo, wherefore art thou Romeo?\",\n",
    "]\n",
    "\n",
    "df = pd.DataFrame(text, columns=[\"text\"])\n",
    "df[\"embeddings\"] = [\n",
    "    emb.values for emb in embedding_model.get_embeddings(df.text.values)\n",
    "]\n",
    "df"
   ]
  },
  {
   "cell_type": "code",
   "execution_count": null,
   "metadata": {},
   "outputs": [],
   "source": []
  }
 ],
 "metadata": {
  "kernelspec": {
   "display_name": ".venv",
   "language": "python",
   "name": "python3"
  },
  "language_info": {
   "codemirror_mode": {
    "name": "ipython",
    "version": 3
   },
   "file_extension": ".py",
   "mimetype": "text/x-python",
   "name": "python",
   "nbconvert_exporter": "python",
   "pygments_lexer": "ipython3",
   "version": "3.9.16"
  },
  "orig_nbformat": 4
 },
 "nbformat": 4,
 "nbformat_minor": 2
}
